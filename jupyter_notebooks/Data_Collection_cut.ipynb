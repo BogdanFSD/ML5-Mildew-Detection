{
 "cells": [
  {
   "attachments": {},
   "cell_type": "markdown",
   "metadata": {},
   "source": [
    "# **Data Collection**"
   ]
  },
  {
   "attachments": {},
   "cell_type": "markdown",
   "metadata": {},
   "source": [
    "## Objectives\n",
    "\n",
    "* Set working directory\n",
    "* Fetch data from Kaggle and prepare it\n",
    "* Clean data\n",
    "* Split data\n"
   ]
  },
  {
   "attachments": {},
   "cell_type": "markdown",
   "metadata": {},
   "source": [
    "## Inputs\n",
    "\n",
    "Kaggle JSON file - authentication token "
   ]
  },
  {
   "attachments": {},
   "cell_type": "markdown",
   "metadata": {},
   "source": [
    "## Outputs\n",
    "\n",
    "Generate dataset that is split in test, train and validation folders"
   ]
  },
  {
   "attachments": {},
   "cell_type": "markdown",
   "metadata": {},
   "source": [
    "# Import"
   ]
  },
  {
   "cell_type": "code",
   "execution_count": 14,
   "metadata": {},
   "outputs": [
    {
     "name": "stdout",
     "output_type": "stream",
     "text": [
      "Requirement already satisfied: numpy in /workspace/.pip-modules/lib/python3.8/site-packages (from -r /workspace/ML5-Mildew-Detection/requirements.txt (line 1)) (1.19.5)\n",
      "Requirement already satisfied: pandas in /workspace/.pip-modules/lib/python3.8/site-packages (from -r /workspace/ML5-Mildew-Detection/requirements.txt (line 2)) (1.1.2)\n",
      "Requirement already satisfied: matplotlib in /workspace/.pip-modules/lib/python3.8/site-packages (from -r /workspace/ML5-Mildew-Detection/requirements.txt (line 3)) (3.3.1)\n",
      "Requirement already satisfied: seaborn in /workspace/.pip-modules/lib/python3.8/site-packages (from -r /workspace/ML5-Mildew-Detection/requirements.txt (line 4)) (0.11.0)\n",
      "Requirement already satisfied: plotly in /workspace/.pip-modules/lib/python3.8/site-packages (from -r /workspace/ML5-Mildew-Detection/requirements.txt (line 5)) (4.12.0)\n",
      "Requirement already satisfied: streamlit in /workspace/.pip-modules/lib/python3.8/site-packages (from -r /workspace/ML5-Mildew-Detection/requirements.txt (line 7)) (0.85.0)\n",
      "Requirement already satisfied: scikit-learn in /workspace/.pip-modules/lib/python3.8/site-packages (from -r /workspace/ML5-Mildew-Detection/requirements.txt (line 9)) (0.24.2)\n",
      "Requirement already satisfied: tensorflow-cpu in /workspace/.pip-modules/lib/python3.8/site-packages (from -r /workspace/ML5-Mildew-Detection/requirements.txt (line 10)) (2.6.0)\n",
      "Requirement already satisfied: keras in /workspace/.pip-modules/lib/python3.8/site-packages (from -r /workspace/ML5-Mildew-Detection/requirements.txt (line 11)) (2.6.0)\n",
      "Requirement already satisfied: python-dateutil>=2.7.3 in /home/gitpod/.pyenv/versions/3.8.12/lib/python3.8/site-packages (from pandas->-r /workspace/ML5-Mildew-Detection/requirements.txt (line 2)) (2.8.2)\n",
      "Requirement already satisfied: pytz>=2017.2 in /workspace/.pip-modules/lib/python3.8/site-packages (from pandas->-r /workspace/ML5-Mildew-Detection/requirements.txt (line 2)) (2022.7.1)\n",
      "Requirement already satisfied: certifi>=2020.06.20 in /home/gitpod/.pyenv/versions/3.8.12/lib/python3.8/site-packages (from matplotlib->-r /workspace/ML5-Mildew-Detection/requirements.txt (line 3)) (2022.12.7)\n",
      "Requirement already satisfied: cycler>=0.10 in /workspace/.pip-modules/lib/python3.8/site-packages (from matplotlib->-r /workspace/ML5-Mildew-Detection/requirements.txt (line 3)) (0.11.0)\n",
      "Requirement already satisfied: pyparsing!=2.0.4,!=2.1.2,!=2.1.6,>=2.0.3 in /workspace/.pip-modules/lib/python3.8/site-packages (from matplotlib->-r /workspace/ML5-Mildew-Detection/requirements.txt (line 3)) (3.0.9)\n",
      "Requirement already satisfied: kiwisolver>=1.0.1 in /workspace/.pip-modules/lib/python3.8/site-packages (from matplotlib->-r /workspace/ML5-Mildew-Detection/requirements.txt (line 3)) (1.4.4)\n",
      "Requirement already satisfied: pillow>=6.2.0 in /workspace/.pip-modules/lib/python3.8/site-packages (from matplotlib->-r /workspace/ML5-Mildew-Detection/requirements.txt (line 3)) (9.4.0)\n",
      "Requirement already satisfied: scipy>=1.0 in /workspace/.pip-modules/lib/python3.8/site-packages (from seaborn->-r /workspace/ML5-Mildew-Detection/requirements.txt (line 4)) (1.9.1)\n",
      "Requirement already satisfied: six in /workspace/.pip-modules/lib/python3.8/site-packages (from plotly->-r /workspace/ML5-Mildew-Detection/requirements.txt (line 5)) (1.15.0)\n",
      "Requirement already satisfied: retrying>=1.3.3 in /workspace/.pip-modules/lib/python3.8/site-packages (from plotly->-r /workspace/ML5-Mildew-Detection/requirements.txt (line 5)) (1.3.4)\n",
      "Requirement already satisfied: requests in /home/gitpod/.pyenv/versions/3.8.12/lib/python3.8/site-packages (from streamlit->-r /workspace/ML5-Mildew-Detection/requirements.txt (line 7)) (2.28.2)\n",
      "Requirement already satisfied: tornado>=5.0 in /home/gitpod/.pyenv/versions/3.8.12/lib/python3.8/site-packages (from streamlit->-r /workspace/ML5-Mildew-Detection/requirements.txt (line 7)) (6.2)\n",
      "Requirement already satisfied: toml in /workspace/.pip-modules/lib/python3.8/site-packages (from streamlit->-r /workspace/ML5-Mildew-Detection/requirements.txt (line 7)) (0.10.2)\n",
      "Requirement already satisfied: blinker in /workspace/.pip-modules/lib/python3.8/site-packages (from streamlit->-r /workspace/ML5-Mildew-Detection/requirements.txt (line 7)) (1.5)\n",
      "Requirement already satisfied: attrs in /home/gitpod/.pyenv/versions/3.8.12/lib/python3.8/site-packages (from streamlit->-r /workspace/ML5-Mildew-Detection/requirements.txt (line 7)) (22.2.0)\n",
      "Requirement already satisfied: gitpython in /home/gitpod/.pyenv/versions/3.8.12/lib/python3.8/site-packages (from streamlit->-r /workspace/ML5-Mildew-Detection/requirements.txt (line 7)) (3.1.31)\n",
      "Requirement already satisfied: pydeck>=0.1.dev5 in /workspace/.pip-modules/lib/python3.8/site-packages (from streamlit->-r /workspace/ML5-Mildew-Detection/requirements.txt (line 7)) (0.8.0)\n",
      "Requirement already satisfied: altair>=3.2.0 in /workspace/.pip-modules/lib/python3.8/site-packages (from streamlit->-r /workspace/ML5-Mildew-Detection/requirements.txt (line 7)) (4.2.2)\n",
      "Requirement already satisfied: base58 in /workspace/.pip-modules/lib/python3.8/site-packages (from streamlit->-r /workspace/ML5-Mildew-Detection/requirements.txt (line 7)) (2.1.1)\n",
      "Requirement already satisfied: packaging in /home/gitpod/.pyenv/versions/3.8.12/lib/python3.8/site-packages (from streamlit->-r /workspace/ML5-Mildew-Detection/requirements.txt (line 7)) (23.0)\n",
      "Requirement already satisfied: validators in /workspace/.pip-modules/lib/python3.8/site-packages (from streamlit->-r /workspace/ML5-Mildew-Detection/requirements.txt (line 7)) (0.20.0)\n",
      "Requirement already satisfied: pyarrow in /workspace/.pip-modules/lib/python3.8/site-packages (from streamlit->-r /workspace/ML5-Mildew-Detection/requirements.txt (line 7)) (11.0.0)\n",
      "Requirement already satisfied: click<8.0,>=7.0 in /workspace/.pip-modules/lib/python3.8/site-packages (from streamlit->-r /workspace/ML5-Mildew-Detection/requirements.txt (line 7)) (7.1.2)\n",
      "Requirement already satisfied: watchdog in /workspace/.pip-modules/lib/python3.8/site-packages (from streamlit->-r /workspace/ML5-Mildew-Detection/requirements.txt (line 7)) (3.0.0)\n",
      "Requirement already satisfied: cachetools>=4.0 in /workspace/.pip-modules/lib/python3.8/site-packages (from streamlit->-r /workspace/ML5-Mildew-Detection/requirements.txt (line 7)) (5.3.0)\n",
      "Requirement already satisfied: tzlocal in /workspace/.pip-modules/lib/python3.8/site-packages (from streamlit->-r /workspace/ML5-Mildew-Detection/requirements.txt (line 7)) (4.3)\n",
      "Requirement already satisfied: astor in /workspace/.pip-modules/lib/python3.8/site-packages (from streamlit->-r /workspace/ML5-Mildew-Detection/requirements.txt (line 7)) (0.8.1)\n",
      "Requirement already satisfied: protobuf!=3.11,>=3.6.0 in /workspace/.pip-modules/lib/python3.8/site-packages (from streamlit->-r /workspace/ML5-Mildew-Detection/requirements.txt (line 7)) (3.20.0)\n",
      "Requirement already satisfied: threadpoolctl>=2.0.0 in /workspace/.pip-modules/lib/python3.8/site-packages (from scikit-learn->-r /workspace/ML5-Mildew-Detection/requirements.txt (line 9)) (3.1.0)\n",
      "Requirement already satisfied: joblib>=0.11 in /workspace/.pip-modules/lib/python3.8/site-packages (from scikit-learn->-r /workspace/ML5-Mildew-Detection/requirements.txt (line 9)) (1.2.0)\n",
      "Requirement already satisfied: termcolor~=1.1.0 in /workspace/.pip-modules/lib/python3.8/site-packages (from tensorflow-cpu->-r /workspace/ML5-Mildew-Detection/requirements.txt (line 10)) (1.1.0)\n",
      "Requirement already satisfied: clang~=5.0 in /workspace/.pip-modules/lib/python3.8/site-packages (from tensorflow-cpu->-r /workspace/ML5-Mildew-Detection/requirements.txt (line 10)) (5.0)\n",
      "Requirement already satisfied: tensorboard~=2.6 in /workspace/.pip-modules/lib/python3.8/site-packages (from tensorflow-cpu->-r /workspace/ML5-Mildew-Detection/requirements.txt (line 10)) (2.12.0)\n",
      "Requirement already satisfied: wheel~=0.35 in /home/gitpod/.pyenv/versions/3.8.12/lib/python3.8/site-packages (from tensorflow-cpu->-r /workspace/ML5-Mildew-Detection/requirements.txt (line 10)) (0.40.0)\n",
      "Requirement already satisfied: h5py~=3.1.0 in /workspace/.pip-modules/lib/python3.8/site-packages (from tensorflow-cpu->-r /workspace/ML5-Mildew-Detection/requirements.txt (line 10)) (3.1.0)\n",
      "Requirement already satisfied: keras-preprocessing~=1.1.2 in /workspace/.pip-modules/lib/python3.8/site-packages (from tensorflow-cpu->-r /workspace/ML5-Mildew-Detection/requirements.txt (line 10)) (1.1.2)\n",
      "Requirement already satisfied: google-pasta~=0.2 in /workspace/.pip-modules/lib/python3.8/site-packages (from tensorflow-cpu->-r /workspace/ML5-Mildew-Detection/requirements.txt (line 10)) (0.2.0)\n",
      "Requirement already satisfied: astunparse~=1.6.3 in /workspace/.pip-modules/lib/python3.8/site-packages (from tensorflow-cpu->-r /workspace/ML5-Mildew-Detection/requirements.txt (line 10)) (1.6.3)\n",
      "Requirement already satisfied: flatbuffers~=1.12.0 in /workspace/.pip-modules/lib/python3.8/site-packages (from tensorflow-cpu->-r /workspace/ML5-Mildew-Detection/requirements.txt (line 10)) (1.12)\n",
      "Requirement already satisfied: gast==0.4.0 in /workspace/.pip-modules/lib/python3.8/site-packages (from tensorflow-cpu->-r /workspace/ML5-Mildew-Detection/requirements.txt (line 10)) (0.4.0)\n",
      "Requirement already satisfied: typing-extensions~=3.7.4 in /workspace/.pip-modules/lib/python3.8/site-packages (from tensorflow-cpu->-r /workspace/ML5-Mildew-Detection/requirements.txt (line 10)) (3.7.4.3)\n",
      "Requirement already satisfied: grpcio<2.0,>=1.37.0 in /workspace/.pip-modules/lib/python3.8/site-packages (from tensorflow-cpu->-r /workspace/ML5-Mildew-Detection/requirements.txt (line 10)) (1.51.3)\n",
      "Requirement already satisfied: wrapt~=1.12.1 in /workspace/.pip-modules/lib/python3.8/site-packages (from tensorflow-cpu->-r /workspace/ML5-Mildew-Detection/requirements.txt (line 10)) (1.12.1)\n",
      "Requirement already satisfied: absl-py~=0.10 in /workspace/.pip-modules/lib/python3.8/site-packages (from tensorflow-cpu->-r /workspace/ML5-Mildew-Detection/requirements.txt (line 10)) (0.15.0)\n",
      "Requirement already satisfied: opt-einsum~=3.3.0 in /workspace/.pip-modules/lib/python3.8/site-packages (from tensorflow-cpu->-r /workspace/ML5-Mildew-Detection/requirements.txt (line 10)) (3.3.0)\n",
      "Requirement already satisfied: tensorflow-estimator~=2.6 in /workspace/.pip-modules/lib/python3.8/site-packages (from tensorflow-cpu->-r /workspace/ML5-Mildew-Detection/requirements.txt (line 10)) (2.11.0)\n",
      "Requirement already satisfied: jsonschema>=3.0 in /home/gitpod/.pyenv/versions/3.8.12/lib/python3.8/site-packages (from altair>=3.2.0->streamlit->-r /workspace/ML5-Mildew-Detection/requirements.txt (line 7)) (4.17.3)\n",
      "Requirement already satisfied: entrypoints in /workspace/.pip-modules/lib/python3.8/site-packages (from altair>=3.2.0->streamlit->-r /workspace/ML5-Mildew-Detection/requirements.txt (line 7)) (0.4)\n",
      "Requirement already satisfied: jinja2 in /home/gitpod/.pyenv/versions/3.8.12/lib/python3.8/site-packages (from altair>=3.2.0->streamlit->-r /workspace/ML5-Mildew-Detection/requirements.txt (line 7)) (3.1.2)\n",
      "Requirement already satisfied: toolz in /workspace/.pip-modules/lib/python3.8/site-packages (from altair>=3.2.0->streamlit->-r /workspace/ML5-Mildew-Detection/requirements.txt (line 7)) (0.12.0)\n",
      "Requirement already satisfied: google-auth-oauthlib<0.5,>=0.4.1 in /workspace/.pip-modules/lib/python3.8/site-packages (from tensorboard~=2.6->tensorflow-cpu->-r /workspace/ML5-Mildew-Detection/requirements.txt (line 10)) (0.4.6)\n",
      "Requirement already satisfied: werkzeug>=1.0.1 in /workspace/.pip-modules/lib/python3.8/site-packages (from tensorboard~=2.6->tensorflow-cpu->-r /workspace/ML5-Mildew-Detection/requirements.txt (line 10)) (2.2.3)\n",
      "Requirement already satisfied: google-auth<3,>=1.6.3 in /workspace/.pip-modules/lib/python3.8/site-packages (from tensorboard~=2.6->tensorflow-cpu->-r /workspace/ML5-Mildew-Detection/requirements.txt (line 10)) (2.16.2)\n",
      "Requirement already satisfied: setuptools>=41.0.0 in /home/gitpod/.pyenv/versions/3.8.12/lib/python3.8/site-packages (from tensorboard~=2.6->tensorflow-cpu->-r /workspace/ML5-Mildew-Detection/requirements.txt (line 10)) (67.6.0)\n",
      "Requirement already satisfied: markdown>=2.6.8 in /workspace/.pip-modules/lib/python3.8/site-packages (from tensorboard~=2.6->tensorflow-cpu->-r /workspace/ML5-Mildew-Detection/requirements.txt (line 10)) (3.4.1)\n",
      "Requirement already satisfied: tensorboard-plugin-wit>=1.6.0 in /workspace/.pip-modules/lib/python3.8/site-packages (from tensorboard~=2.6->tensorflow-cpu->-r /workspace/ML5-Mildew-Detection/requirements.txt (line 10)) (1.8.1)\n",
      "Requirement already satisfied: tensorboard-data-server<0.8.0,>=0.7.0 in /workspace/.pip-modules/lib/python3.8/site-packages (from tensorboard~=2.6->tensorflow-cpu->-r /workspace/ML5-Mildew-Detection/requirements.txt (line 10)) (0.7.0)\n",
      "Requirement already satisfied: charset-normalizer<4,>=2 in /home/gitpod/.pyenv/versions/3.8.12/lib/python3.8/site-packages (from requests->streamlit->-r /workspace/ML5-Mildew-Detection/requirements.txt (line 7)) (3.1.0)\n",
      "Requirement already satisfied: idna<4,>=2.5 in /home/gitpod/.pyenv/versions/3.8.12/lib/python3.8/site-packages (from requests->streamlit->-r /workspace/ML5-Mildew-Detection/requirements.txt (line 7)) (3.4)\n",
      "Requirement already satisfied: urllib3<1.27,>=1.21.1 in /home/gitpod/.pyenv/versions/3.8.12/lib/python3.8/site-packages (from requests->streamlit->-r /workspace/ML5-Mildew-Detection/requirements.txt (line 7)) (1.26.15)\n",
      "Requirement already satisfied: gitdb<5,>=4.0.1 in /home/gitpod/.pyenv/versions/3.8.12/lib/python3.8/site-packages (from gitpython->streamlit->-r /workspace/ML5-Mildew-Detection/requirements.txt (line 7)) (4.0.10)\n",
      "Requirement already satisfied: pytz-deprecation-shim in /workspace/.pip-modules/lib/python3.8/site-packages (from tzlocal->streamlit->-r /workspace/ML5-Mildew-Detection/requirements.txt (line 7)) (0.1.0.post0)\n",
      "Requirement already satisfied: backports.zoneinfo in /workspace/.pip-modules/lib/python3.8/site-packages (from tzlocal->streamlit->-r /workspace/ML5-Mildew-Detection/requirements.txt (line 7)) (0.2.1)\n",
      "Requirement already satisfied: decorator>=3.4.0 in /home/gitpod/.pyenv/versions/3.8.12/lib/python3.8/site-packages (from validators->streamlit->-r /workspace/ML5-Mildew-Detection/requirements.txt (line 7)) (5.1.1)\n",
      "Requirement already satisfied: smmap<6,>=3.0.1 in /home/gitpod/.pyenv/versions/3.8.12/lib/python3.8/site-packages (from gitdb<5,>=4.0.1->gitpython->streamlit->-r /workspace/ML5-Mildew-Detection/requirements.txt (line 7)) (5.0.0)\n",
      "Requirement already satisfied: rsa<5,>=3.1.4 in /workspace/.pip-modules/lib/python3.8/site-packages (from google-auth<3,>=1.6.3->tensorboard~=2.6->tensorflow-cpu->-r /workspace/ML5-Mildew-Detection/requirements.txt (line 10)) (4.9)\n",
      "Requirement already satisfied: pyasn1-modules>=0.2.1 in /workspace/.pip-modules/lib/python3.8/site-packages (from google-auth<3,>=1.6.3->tensorboard~=2.6->tensorflow-cpu->-r /workspace/ML5-Mildew-Detection/requirements.txt (line 10)) (0.2.8)\n",
      "Requirement already satisfied: requests-oauthlib>=0.7.0 in /workspace/.pip-modules/lib/python3.8/site-packages (from google-auth-oauthlib<0.5,>=0.4.1->tensorboard~=2.6->tensorflow-cpu->-r /workspace/ML5-Mildew-Detection/requirements.txt (line 10)) (1.3.1)\n",
      "Requirement already satisfied: MarkupSafe>=2.0 in /home/gitpod/.pyenv/versions/3.8.12/lib/python3.8/site-packages (from jinja2->altair>=3.2.0->streamlit->-r /workspace/ML5-Mildew-Detection/requirements.txt (line 7)) (2.1.2)\n",
      "Requirement already satisfied: importlib-resources>=1.4.0 in /home/gitpod/.pyenv/versions/3.8.12/lib/python3.8/site-packages (from jsonschema>=3.0->altair>=3.2.0->streamlit->-r /workspace/ML5-Mildew-Detection/requirements.txt (line 7)) (5.12.0)\n",
      "Requirement already satisfied: pkgutil-resolve-name>=1.3.10 in /home/gitpod/.pyenv/versions/3.8.12/lib/python3.8/site-packages (from jsonschema>=3.0->altair>=3.2.0->streamlit->-r /workspace/ML5-Mildew-Detection/requirements.txt (line 7)) (1.3.10)\n",
      "Requirement already satisfied: pyrsistent!=0.17.0,!=0.17.1,!=0.17.2,>=0.14.0 in /home/gitpod/.pyenv/versions/3.8.12/lib/python3.8/site-packages (from jsonschema>=3.0->altair>=3.2.0->streamlit->-r /workspace/ML5-Mildew-Detection/requirements.txt (line 7)) (0.19.3)\n",
      "Requirement already satisfied: importlib-metadata>=4.4 in /home/gitpod/.pyenv/versions/3.8.12/lib/python3.8/site-packages (from markdown>=2.6.8->tensorboard~=2.6->tensorflow-cpu->-r /workspace/ML5-Mildew-Detection/requirements.txt (line 10)) (6.1.0)\n",
      "Requirement already satisfied: tzdata in /workspace/.pip-modules/lib/python3.8/site-packages (from pytz-deprecation-shim->tzlocal->streamlit->-r /workspace/ML5-Mildew-Detection/requirements.txt (line 7)) (2022.7)\n",
      "Requirement already satisfied: zipp>=0.5 in /home/gitpod/.pyenv/versions/3.8.12/lib/python3.8/site-packages (from importlib-metadata>=4.4->markdown>=2.6.8->tensorboard~=2.6->tensorflow-cpu->-r /workspace/ML5-Mildew-Detection/requirements.txt (line 10)) (3.15.0)\n",
      "Requirement already satisfied: pyasn1<0.5.0,>=0.4.6 in /workspace/.pip-modules/lib/python3.8/site-packages (from pyasn1-modules>=0.2.1->google-auth<3,>=1.6.3->tensorboard~=2.6->tensorflow-cpu->-r /workspace/ML5-Mildew-Detection/requirements.txt (line 10)) (0.4.8)\n",
      "Requirement already satisfied: oauthlib>=3.0.0 in /workspace/.pip-modules/lib/python3.8/site-packages (from requests-oauthlib>=0.7.0->google-auth-oauthlib<0.5,>=0.4.1->tensorboard~=2.6->tensorflow-cpu->-r /workspace/ML5-Mildew-Detection/requirements.txt (line 10)) (3.2.2)\n"
     ]
    }
   ],
   "source": [
    "! pip install -r /workspace/ML5-Mildew-Detection/requirements.txt"
   ]
  },
  {
   "cell_type": "code",
   "execution_count": 1,
   "metadata": {},
   "outputs": [],
   "source": [
    "import numpy\n",
    "import os\n"
   ]
  },
  {
   "attachments": {},
   "cell_type": "markdown",
   "metadata": {},
   "source": [
    "# Change working directory"
   ]
  },
  {
   "attachments": {},
   "cell_type": "markdown",
   "metadata": {},
   "source": [
    "* Notebooks located in subfolder, therefore whe runing notebook we need tp change working directory"
   ]
  },
  {
   "attachments": {},
   "cell_type": "markdown",
   "metadata": {},
   "source": [
    "Changing working directory to parent folder"
   ]
  },
  {
   "cell_type": "code",
   "execution_count": 2,
   "metadata": {},
   "outputs": [
    {
     "data": {
      "text/plain": [
       "'/workspace/ML5-Mildew-Detection/jupyter_notebooks'"
      ]
     },
     "execution_count": 2,
     "metadata": {},
     "output_type": "execute_result"
    }
   ],
   "source": [
    "current_dir = os.getcwd()\n",
    "current_dir"
   ]
  },
  {
   "attachments": {},
   "cell_type": "markdown",
   "metadata": {},
   "source": [
    "Parent of this folder becomes new directory"
   ]
  },
  {
   "cell_type": "code",
   "execution_count": 3,
   "metadata": {},
   "outputs": [
    {
     "name": "stdout",
     "output_type": "stream",
     "text": [
      "You set a new current directory\n"
     ]
    }
   ],
   "source": [
    "os.chdir('/workspace/ML5-Mildew-Detection')\n",
    "print(\"You set a new current directory\")"
   ]
  },
  {
   "attachments": {},
   "cell_type": "markdown",
   "metadata": {},
   "source": [
    "Checking if we set up our new working directory"
   ]
  },
  {
   "cell_type": "code",
   "execution_count": 4,
   "metadata": {},
   "outputs": [
    {
     "data": {
      "text/plain": [
       "'/workspace/ML5-Mildew-Detection'"
      ]
     },
     "execution_count": 4,
     "metadata": {},
     "output_type": "execute_result"
    }
   ],
   "source": [
    "current_dir = os.getcwd()\n",
    "current_dir"
   ]
  },
  {
   "attachments": {},
   "cell_type": "markdown",
   "metadata": {},
   "source": [
    "# Install Kaggle"
   ]
  },
  {
   "cell_type": "code",
   "execution_count": 5,
   "metadata": {},
   "outputs": [
    {
     "name": "stdout",
     "output_type": "stream",
     "text": [
      "Requirement already satisfied: kaggle in /workspace/.pip-modules/lib/python3.8/site-packages (1.5.13)\n",
      "Requirement already satisfied: python-dateutil in /home/gitpod/.pyenv/versions/3.8.12/lib/python3.8/site-packages (from kaggle) (2.8.2)\n",
      "Requirement already satisfied: requests in /home/gitpod/.pyenv/versions/3.8.12/lib/python3.8/site-packages (from kaggle) (2.28.2)\n",
      "Requirement already satisfied: python-slugify in /workspace/.pip-modules/lib/python3.8/site-packages (from kaggle) (8.0.1)\n",
      "Requirement already satisfied: urllib3 in /home/gitpod/.pyenv/versions/3.8.12/lib/python3.8/site-packages (from kaggle) (1.26.15)\n",
      "Requirement already satisfied: six>=1.10 in /workspace/.pip-modules/lib/python3.8/site-packages (from kaggle) (1.15.0)\n",
      "Requirement already satisfied: tqdm in /workspace/.pip-modules/lib/python3.8/site-packages (from kaggle) (4.65.0)\n",
      "Requirement already satisfied: certifi in /home/gitpod/.pyenv/versions/3.8.12/lib/python3.8/site-packages (from kaggle) (2022.12.7)\n",
      "Requirement already satisfied: text-unidecode>=1.3 in /workspace/.pip-modules/lib/python3.8/site-packages (from python-slugify->kaggle) (1.3)\n",
      "Requirement already satisfied: idna<4,>=2.5 in /home/gitpod/.pyenv/versions/3.8.12/lib/python3.8/site-packages (from requests->kaggle) (3.4)\n",
      "Requirement already satisfied: charset-normalizer<4,>=2 in /home/gitpod/.pyenv/versions/3.8.12/lib/python3.8/site-packages (from requests->kaggle) (3.1.0)\n"
     ]
    }
   ],
   "source": [
    "!pip install kaggle"
   ]
  },
  {
   "attachments": {},
   "cell_type": "markdown",
   "metadata": {},
   "source": [
    "Change the Kaggle configuration directory to the current working directory and set permissions for the Kaggle authentication JSON"
   ]
  },
  {
   "cell_type": "code",
   "execution_count": 6,
   "metadata": {},
   "outputs": [],
   "source": [
    "os.environ['KAGGLE_CONFIG_DIR'] = os.getcwd()\n",
    "! chmod 600 kaggle.json"
   ]
  },
  {
   "attachments": {},
   "cell_type": "markdown",
   "metadata": {},
   "source": [
    "Download dataset from Kaggle"
   ]
  },
  {
   "cell_type": "code",
   "execution_count": 7,
   "metadata": {},
   "outputs": [
    {
     "name": "stdout",
     "output_type": "stream",
     "text": [
      "Downloading cherry-leaves.zip to inputs/cherryleaves_data/cherry-leaves/cut\n",
      " 98%|█████████████████████████████████████▎| 54.0M/55.0M [00:01<00:00, 31.1MB/s]\n",
      "100%|██████████████████████████████████████| 55.0M/55.0M [00:02<00:00, 28.8MB/s]\n"
     ]
    }
   ],
   "source": [
    "KaggleDatasetPath = \"codeinstitute/cherry-leaves\"\n",
    "DestinationFolder = \"inputs/cherryleaves_data/cherry-leaves/cut\"   \n",
    "! kaggle datasets download -d {KaggleDatasetPath} -p {DestinationFolder}"
   ]
  },
  {
   "attachments": {},
   "cell_type": "markdown",
   "metadata": {},
   "source": [
    "Unzip downloaded file and delete zip file"
   ]
  },
  {
   "cell_type": "code",
   "execution_count": 8,
   "metadata": {},
   "outputs": [],
   "source": [
    "import zipfile\n",
    "with zipfile.ZipFile(DestinationFolder + '/cherry-leaves.zip', 'r') as zip_ref:\n",
    "    zip_ref.extractall(DestinationFolder)\n",
    "\n",
    "os.remove(DestinationFolder + '/cherry-leaves.zip')"
   ]
  },
  {
   "attachments": {},
   "cell_type": "markdown",
   "metadata": {},
   "source": [
    "# Data Preparation\n"
   ]
  },
  {
   "attachments": {},
   "cell_type": "markdown",
   "metadata": {},
   "source": [
    "## Data Cleaning"
   ]
  },
  {
   "attachments": {},
   "cell_type": "markdown",
   "metadata": {},
   "source": [
    "Check and remove all non-image files"
   ]
  },
  {
   "cell_type": "code",
   "execution_count": 9,
   "metadata": {},
   "outputs": [],
   "source": [
    "def remove_non_image_file(my_data_dir):\n",
    "    image_extension = ('.png', '.jpg', '.jpeg')\n",
    "    folders = os.listdir(my_data_dir)\n",
    "    for folder in folders:\n",
    "        files = os.listdir(my_data_dir + '/' + folder)\n",
    "        \n",
    "        i = []\n",
    "        j = []\n",
    "        for given_file in files:\n",
    "            if not given_file.lower().endswith(image_extension):\n",
    "                file_location = my_data_dir + '/' + folder + '/' + given_file\n",
    "                os.remove(file_location)  # remove non image file\n",
    "                i.append(1)\n",
    "            else:\n",
    "                j.append(1)\n",
    "                pass\n",
    "        print(f\"Folder: {folder} - has image file\", len(j))\n",
    "        print(f\"Folder: {folder} - has non-image file\", len(i))"
   ]
  },
  {
   "cell_type": "code",
   "execution_count": 10,
   "metadata": {},
   "outputs": [
    {
     "name": "stdout",
     "output_type": "stream",
     "text": [
      "Folder: healthy - has image file 2104\n",
      "Folder: healthy - has non-image file 0\n",
      "Folder: powdery_mildew - has image file 2104\n",
      "Folder: powdery_mildew - has non-image file 0\n"
     ]
    }
   ],
   "source": [
    "remove_non_image_file(my_data_dir='inputs/cherryleaves_data/cherry-leaves/cut/cherry-leaves')"
   ]
  },
  {
   "cell_type": "code",
   "execution_count": 15,
   "metadata": {},
   "outputs": [],
   "source": [
    "# from PIL import Image\n",
    "# import os\n",
    "\n",
    "# # Set the directory path to the input images\n",
    "# input_dir = \"inputs/cherryleaves_data/cherry-leaves/cut/cherry-leaves/powdery_mildew\"\n",
    "\n",
    "# # Set the directory path to save the cropped images\n",
    "# output_dir = \"inputs/cherryleaves_data/cherry-leaves/cut/cherry-leaves/powdery_mildew_cut\"\n",
    "\n",
    "# # Create the output directory if it doesn't exist\n",
    "# if not os.path.exists(output_dir):\n",
    "#     os.mkdir(output_dir)\n",
    "\n",
    "# # Get a list of all the image files in the input directory\n",
    "# image_files = os.listdir(input_dir)\n",
    "\n",
    "# # Iterate through each image file\n",
    "# for image_file in image_files:\n",
    "#     # Open the image file\n",
    "#     image_path = os.path.join(input_dir, image_file)\n",
    "#     image = Image.open(image_path)\n",
    "    \n",
    "#     # Get the size of the image\n",
    "#     width, height = image.size\n",
    "    \n",
    "#     # Calculate the height of each piece\n",
    "#     piece_height = height // 3\n",
    "    \n",
    "#     # Crop the image into three pieces\n",
    "#     piece1 = image.crop((0, 0, width, piece_height))\n",
    "#     piece2 = image.crop((0, piece_height, width, 2*piece_height))\n",
    "#     piece3 = image.crop((0, 2*piece_height, width, height))\n",
    "    \n",
    "#     # Save the cropped pieces with new file names\n",
    "#     piece1.save(os.path.join(output_dir, f\"{image_file}_1\"))\n",
    "#     piece2.save(os.path.join(output_dir, f\"{image_file}_2\"))\n",
    "#     piece3.save(os.path.join(output_dir, f\"{image_file}_3\"))\n",
    "\n",
    "from PIL import Image\n",
    "import os\n",
    "\n",
    "\n",
    "def crop_images(input_dir, powdery_mildew_output_dir, healthy_output_dir):\n",
    "    # Create the output directories if they don't exist\n",
    "    if not os.path.exists(powdery_mildew_output_dir):\n",
    "        os.mkdir(powdery_mildew_output_dir)\n",
    "    if not os.path.exists(healthy_output_dir):\n",
    "        os.mkdir(healthy_output_dir)\n",
    "\n",
    "    # Define the subdirectories to look for images in\n",
    "    subdirs = [\"powdery_mildew\", \"healthy\"]\n",
    "\n",
    "    # Loop through each subdirectory\n",
    "    for subdir in subdirs:\n",
    "        # Set the input directory path for this subdirectory\n",
    "        subdir_input_dir = os.path.join(input_dir, subdir)\n",
    "\n",
    "        # Set the output directory path for this subdirectory\n",
    "        if subdir == \"powdery_mildew\":\n",
    "            subdir_output_dir = powdery_mildew_output_dir\n",
    "        else:\n",
    "            subdir_output_dir = healthy_output_dir\n",
    "\n",
    "        # Get a list of all the image files in the subdirectory\n",
    "        image_files = os.listdir(subdir_input_dir)\n",
    "\n",
    "        # Iterate through each image file\n",
    "        for image_file in image_files:\n",
    "            # Open the image file\n",
    "            image_path = os.path.join(subdir_input_dir, image_file)\n",
    "            image = Image.open(image_path)\n",
    "\n",
    "            # Get the size of the image\n",
    "            width, height = image.size\n",
    "\n",
    "            # Calculate the height of each piece\n",
    "            piece_height = height // 3\n",
    "\n",
    "            # Crop the image into three pieces\n",
    "            piece1 = image.crop((0, 0, width, piece_height))\n",
    "            piece2 = image.crop((0, piece_height, width, 2*piece_height))\n",
    "            piece3 = image.crop((0, 2*piece_height, width, height))\n",
    "\n",
    "            # Save the cropped pieces with new file names\n",
    "            piece1.save(os.path.join(subdir_output_dir, f\"{image_file[:-4]}_1.jpg\"))\n",
    "            piece2.save(os.path.join(subdir_output_dir, f\"{image_file[:-4]}_2.jpg\"))\n",
    "            piece3.save(os.path.join(subdir_output_dir, f\"{image_file[:-4]}_3.jpg\"))\n",
    "\n"
   ]
  },
  {
   "cell_type": "code",
   "execution_count": 16,
   "metadata": {},
   "outputs": [],
   "source": [
    "input_dir = \"inputs/cherryleaves_data/cherry-leaves/cut/cherry-leaves\"\n",
    "powdery_mildew_output_dir = \"inputs/cherryleaves_data/cherry-leaves/cut/cherry-leaves/powdery_mildew_cut\"\n",
    "healthy_output_dir = \"inputs/cherryleaves_data/cherry-leaves/cut/cherry-leaves/healthy_cut\"\n",
    "\n",
    "crop_images(input_dir, powdery_mildew_output_dir, healthy_output_dir)\n"
   ]
  },
  {
   "attachments": {},
   "cell_type": "markdown",
   "metadata": {},
   "source": [
    "## Split train validation test set"
   ]
  },
  {
   "cell_type": "code",
   "execution_count": 19,
   "metadata": {},
   "outputs": [],
   "source": [
    "import os\n",
    "import shutil\n",
    "import random\n",
    "import joblib\n",
    "\n",
    "\n",
    "def split_train_validation_test_images(my_data_dir, train_set_ratio, validation_set_ratio, test_set_ratio):\n",
    "\n",
    "    if train_set_ratio + validation_set_ratio + test_set_ratio != 1.0:\n",
    "        print(\"train_set_ratio + validation_set_ratio + test_set_ratio should sum to 1.0\")\n",
    "        return\n",
    "\n",
    "    # gets classes labels\n",
    "    labels = os.listdir(my_data_dir)  # it should get only the folder name\n",
    "    if 'test' in labels:\n",
    "        pass\n",
    "    else:\n",
    "        # create train, test folders with classes labels sub-folder\n",
    "        for folder in ['train', 'validation', 'test']:\n",
    "            for label in labels:\n",
    "                os.makedirs(name=my_data_dir + '/' + folder + '/' + label)\n",
    "\n",
    "        for label in labels:\n",
    "\n",
    "            files = os.listdir(my_data_dir + '/' + label)\n",
    "            random.shuffle(files)\n",
    "\n",
    "            train_set_files_qty = int(len(files) * train_set_ratio)\n",
    "            validation_set_files_qty = int(len(files) * validation_set_ratio)\n",
    "\n",
    "            count = 1\n",
    "            for file_name in files:\n",
    "                if count <= train_set_files_qty:\n",
    "                    # move a given file to the train set\n",
    "                    shutil.move(my_data_dir + '/' + label + '/' + file_name,\n",
    "                                my_data_dir + '/train/' + label + '/' + file_name)\n",
    "\n",
    "                elif count <= (train_set_files_qty + validation_set_files_qty):\n",
    "                    # move a given file to the validation set\n",
    "                    shutil.move(my_data_dir + '/' + label + '/' + file_name,\n",
    "                                my_data_dir + '/validation/' + label + '/' + file_name)\n",
    "\n",
    "                else:\n",
    "                    # move given file to test set\n",
    "                    shutil.move(my_data_dir + '/' + label + '/' + file_name,\n",
    "                                my_data_dir + '/test/' + label + '/' + file_name)\n",
    "\n",
    "                count += 1\n",
    "\n",
    "            os.rmdir(my_data_dir + '/' + label)"
   ]
  },
  {
   "attachments": {},
   "cell_type": "markdown",
   "metadata": {},
   "source": [
    "* The training set to 0.70 ratio of data.\n",
    "* The validation set to 0.10 ratio of data.\n",
    "* The test set to 0.20 ratio of data."
   ]
  },
  {
   "cell_type": "code",
   "execution_count": 20,
   "metadata": {},
   "outputs": [],
   "source": [
    "split_train_validation_test_images(my_data_dir=f\"inputs/cherryleaves_data/cherry-leaves/cut/cherry-leaves\",\n",
    "                                   train_set_ratio=0.7,\n",
    "                                   validation_set_ratio=0.1,\n",
    "                                   test_set_ratio=0.2\n",
    "                                   )"
   ]
  }
 ],
 "metadata": {
  "kernelspec": {
   "display_name": "Python 3",
   "language": "python",
   "name": "python3"
  },
  "language_info": {
   "codemirror_mode": {
    "name": "ipython",
    "version": 3
   },
   "file_extension": ".py",
   "mimetype": "text/x-python",
   "name": "python",
   "nbconvert_exporter": "python",
   "pygments_lexer": "ipython3",
   "version": "3.8.12"
  },
  "orig_nbformat": 4,
  "vscode": {
   "interpreter": {
    "hash": "8b8334dab9339717f727a1deaf837b322d7a41c20d15cc86be99a8e69ceec8ce"
   }
  }
 },
 "nbformat": 4,
 "nbformat_minor": 2
}
